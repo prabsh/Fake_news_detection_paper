{
  "nbformat": 4,
  "nbformat_minor": 0,
  "metadata": {
    "colab": {
      "name": "Fake_news_attention_based .ipynb",
      "provenance": [],
      "mount_file_id": "1bJRSJTwG2SLL3W1_sBcAsEEA2b9Ziebt",
      "authorship_tag": "ABX9TyO+r7zhufA1jVVouIdpY63x",
      "include_colab_link": true
    },
    "kernelspec": {
      "name": "python3",
      "display_name": "Python 3"
    },
    "language_info": {
      "name": "python"
    }
  },
  "cells": [
    {
      "cell_type": "markdown",
      "metadata": {
        "id": "view-in-github",
        "colab_type": "text"
      },
      "source": [
        "<a href=\"https://colab.research.google.com/github/prabsh/Fake_news_detection_paper/blob/main/Fake_news_attention_based_.ipynb\" target=\"_parent\"><img src=\"https://colab.research.google.com/assets/colab-badge.svg\" alt=\"Open In Colab\"/></a>"
      ]
    },
    {
      "cell_type": "markdown",
      "metadata": {
        "id": "rENgqbyt-REd"
      },
      "source": [
        "# **PreProcess Input**"
      ]
    },
    {
      "cell_type": "code",
      "metadata": {
        "id": "6sRZZHIYCzWd"
      },
      "source": [
        ""
      ],
      "execution_count": 120,
      "outputs": []
    },
    {
      "cell_type": "code",
      "metadata": {
        "id": "4ZED1Mf7-Pie"
      },
      "source": [
        "import sys\n",
        "import os\n",
        "\n",
        "py_file_location = \"/content/drive/MyDrive/FakeNewsNet-master/code/fake-news-detection-master/\"\n",
        "sys.path.append(os.path.abspath(py_file_location))"
      ],
      "execution_count": 121,
      "outputs": []
    },
    {
      "cell_type": "code",
      "metadata": {
        "id": "x4HIHD_QGyLn"
      },
      "source": [
        "%matplotlib inline\n",
        "import matplotlib.pyplot as plt\n",
        "import pandas as pd\n",
        "import numpy as np\n",
        "import warnings\n",
        "from nltk.tokenize import word_tokenize, sent_tokenize, RegexpTokenizer\n",
        "from sklearn.feature_extraction.text import CountVectorizer, TfidfVectorizer\n",
        "from nltk.corpus import stopwords"
      ],
      "execution_count": 122,
      "outputs": []
    },
    {
      "cell_type": "code",
      "metadata": {
        "id": "WUlCbLSKG2WG"
      },
      "source": [
        "df=pd.read_json('/content/drive/MyDrive/FakeNewsNet-master/code/fake-news-detection-master/fake_news_gos.json')"
      ],
      "execution_count": 123,
      "outputs": []
    },
    {
      "cell_type": "code",
      "metadata": {
        "colab": {
          "base_uri": "https://localhost:8080/"
        },
        "id": "9vXplv0aG80G",
        "outputId": "a51a42cf-71e1-48b1-e36a-05dd45691011"
      },
      "source": [
        "#Functions for Preprocessing the Dataset\n",
        "import nltk\n",
        "from nltk import word_tokenize\n",
        "nltk.download('stopwords')\n",
        "from nltk.corpus import stopwords\n",
        "nltk.download('punkt')\n",
        "stop_words = set(stopwords.words('english'))\n",
        "\n",
        "\n",
        "def mystopwords(text):\n",
        "    return ' '.join([w for w in word_tokenize(text) if not w in stop_words])\n",
        "\n",
        "import re\n",
        "def clean_text(string):\n",
        "  clean=re.sub('[\\n]',' ',string) #remove newline character\n",
        "  clean=re.sub('[^a-zA-Z]',' ',clean) #remove non alphabetic characters\n",
        "                                        #  clean=mystopwords(clean) #remove stopwords\n",
        "  return clean"
      ],
      "execution_count": 124,
      "outputs": [
        {
          "output_type": "stream",
          "name": "stdout",
          "text": [
            "[nltk_data] Downloading package stopwords to /root/nltk_data...\n",
            "[nltk_data]   Package stopwords is already up-to-date!\n",
            "[nltk_data] Downloading package punkt to /root/nltk_data...\n",
            "[nltk_data]   Package punkt is already up-to-date!\n"
          ]
        }
      ]
    },
    {
      "cell_type": "code",
      "metadata": {
        "id": "BwxO1s5oHL0-"
      },
      "source": [
        "#Cleaning the data and separating the texts and labels\n",
        "sentences=[]\n",
        "labels=[]\n",
        "for i in range(len(df)):\n",
        "  labels.append(df['class'][i])\n",
        "  sentences.append(clean_text(df['text'][i]))"
      ],
      "execution_count": 125,
      "outputs": []
    },
    {
      "cell_type": "code",
      "metadata": {
        "id": "Rsvf20h6HXFO"
      },
      "source": [
        "from sklearn.model_selection import train_test_split\n",
        "train_sentences, val_sentences, train_labels, val_labels= train_test_split(sentences, labels, test_size=0.1, shuffle= True)\n",
        "train_sentences, test_sentences, train_labels, test_labels= train_test_split(train_sentences, train_labels, test_size=0.112, shuffle= True)"
      ],
      "execution_count": 126,
      "outputs": []
    },
    {
      "cell_type": "code",
      "metadata": {
        "colab": {
          "base_uri": "https://localhost:8080/"
        },
        "id": "YSwWsInQogxt",
        "outputId": "503f776c-84e9-4843-ea8c-aa1ecae1d6c4"
      },
      "source": [
        "!pip install attention\n"
      ],
      "execution_count": 127,
      "outputs": [
        {
          "output_type": "stream",
          "name": "stdout",
          "text": [
            "Requirement already satisfied: attention in /usr/local/lib/python3.7/dist-packages (4.0)\n",
            "Requirement already satisfied: numpy>=1.18.1 in /usr/local/lib/python3.7/dist-packages (from attention) (1.19.5)\n",
            "Requirement already satisfied: tensorflow>=2.1 in /usr/local/lib/python3.7/dist-packages (from attention) (2.6.0)\n",
            "Requirement already satisfied: keras~=2.6 in /usr/local/lib/python3.7/dist-packages (from tensorflow>=2.1->attention) (2.6.0)\n",
            "Requirement already satisfied: typing-extensions~=3.7.4 in /usr/local/lib/python3.7/dist-packages (from tensorflow>=2.1->attention) (3.7.4.3)\n",
            "Requirement already satisfied: google-pasta~=0.2 in /usr/local/lib/python3.7/dist-packages (from tensorflow>=2.1->attention) (0.2.0)\n",
            "Requirement already satisfied: gast==0.4.0 in /usr/local/lib/python3.7/dist-packages (from tensorflow>=2.1->attention) (0.4.0)\n",
            "Requirement already satisfied: protobuf>=3.9.2 in /usr/local/lib/python3.7/dist-packages (from tensorflow>=2.1->attention) (3.17.3)\n",
            "Requirement already satisfied: tensorboard~=2.6 in /usr/local/lib/python3.7/dist-packages (from tensorflow>=2.1->attention) (2.6.0)\n",
            "Requirement already satisfied: wrapt~=1.12.1 in /usr/local/lib/python3.7/dist-packages (from tensorflow>=2.1->attention) (1.12.1)\n",
            "Requirement already satisfied: absl-py~=0.10 in /usr/local/lib/python3.7/dist-packages (from tensorflow>=2.1->attention) (0.12.0)\n",
            "Requirement already satisfied: opt-einsum~=3.3.0 in /usr/local/lib/python3.7/dist-packages (from tensorflow>=2.1->attention) (3.3.0)\n",
            "Requirement already satisfied: tensorflow-estimator~=2.6 in /usr/local/lib/python3.7/dist-packages (from tensorflow>=2.1->attention) (2.6.0)\n",
            "Requirement already satisfied: astunparse~=1.6.3 in /usr/local/lib/python3.7/dist-packages (from tensorflow>=2.1->attention) (1.6.3)\n",
            "Requirement already satisfied: grpcio<2.0,>=1.37.0 in /usr/local/lib/python3.7/dist-packages (from tensorflow>=2.1->attention) (1.41.0)\n",
            "Requirement already satisfied: wheel~=0.35 in /usr/local/lib/python3.7/dist-packages (from tensorflow>=2.1->attention) (0.37.0)\n",
            "Requirement already satisfied: clang~=5.0 in /usr/local/lib/python3.7/dist-packages (from tensorflow>=2.1->attention) (5.0)\n",
            "Requirement already satisfied: h5py~=3.1.0 in /usr/local/lib/python3.7/dist-packages (from tensorflow>=2.1->attention) (3.1.0)\n",
            "Requirement already satisfied: termcolor~=1.1.0 in /usr/local/lib/python3.7/dist-packages (from tensorflow>=2.1->attention) (1.1.0)\n",
            "Requirement already satisfied: six~=1.15.0 in /usr/local/lib/python3.7/dist-packages (from tensorflow>=2.1->attention) (1.15.0)\n",
            "Requirement already satisfied: flatbuffers~=1.12.0 in /usr/local/lib/python3.7/dist-packages (from tensorflow>=2.1->attention) (1.12)\n",
            "Requirement already satisfied: keras-preprocessing~=1.1.2 in /usr/local/lib/python3.7/dist-packages (from tensorflow>=2.1->attention) (1.1.2)\n",
            "Requirement already satisfied: cached-property in /usr/local/lib/python3.7/dist-packages (from h5py~=3.1.0->tensorflow>=2.1->attention) (1.5.2)\n",
            "Requirement already satisfied: setuptools>=41.0.0 in /usr/local/lib/python3.7/dist-packages (from tensorboard~=2.6->tensorflow>=2.1->attention) (57.4.0)\n",
            "Requirement already satisfied: google-auth<2,>=1.6.3 in /usr/local/lib/python3.7/dist-packages (from tensorboard~=2.6->tensorflow>=2.1->attention) (1.35.0)\n",
            "Requirement already satisfied: werkzeug>=0.11.15 in /usr/local/lib/python3.7/dist-packages (from tensorboard~=2.6->tensorflow>=2.1->attention) (1.0.1)\n",
            "Requirement already satisfied: requests<3,>=2.21.0 in /usr/local/lib/python3.7/dist-packages (from tensorboard~=2.6->tensorflow>=2.1->attention) (2.23.0)\n",
            "Requirement already satisfied: tensorboard-data-server<0.7.0,>=0.6.0 in /usr/local/lib/python3.7/dist-packages (from tensorboard~=2.6->tensorflow>=2.1->attention) (0.6.1)\n",
            "Requirement already satisfied: tensorboard-plugin-wit>=1.6.0 in /usr/local/lib/python3.7/dist-packages (from tensorboard~=2.6->tensorflow>=2.1->attention) (1.8.0)\n",
            "Requirement already satisfied: google-auth-oauthlib<0.5,>=0.4.1 in /usr/local/lib/python3.7/dist-packages (from tensorboard~=2.6->tensorflow>=2.1->attention) (0.4.6)\n",
            "Requirement already satisfied: markdown>=2.6.8 in /usr/local/lib/python3.7/dist-packages (from tensorboard~=2.6->tensorflow>=2.1->attention) (3.3.4)\n",
            "Requirement already satisfied: pyasn1-modules>=0.2.1 in /usr/local/lib/python3.7/dist-packages (from google-auth<2,>=1.6.3->tensorboard~=2.6->tensorflow>=2.1->attention) (0.2.8)\n",
            "Requirement already satisfied: rsa<5,>=3.1.4 in /usr/local/lib/python3.7/dist-packages (from google-auth<2,>=1.6.3->tensorboard~=2.6->tensorflow>=2.1->attention) (4.7.2)\n",
            "Requirement already satisfied: cachetools<5.0,>=2.0.0 in /usr/local/lib/python3.7/dist-packages (from google-auth<2,>=1.6.3->tensorboard~=2.6->tensorflow>=2.1->attention) (4.2.4)\n",
            "Requirement already satisfied: requests-oauthlib>=0.7.0 in /usr/local/lib/python3.7/dist-packages (from google-auth-oauthlib<0.5,>=0.4.1->tensorboard~=2.6->tensorflow>=2.1->attention) (1.3.0)\n",
            "Requirement already satisfied: importlib-metadata in /usr/local/lib/python3.7/dist-packages (from markdown>=2.6.8->tensorboard~=2.6->tensorflow>=2.1->attention) (4.8.1)\n",
            "Requirement already satisfied: pyasn1<0.5.0,>=0.4.6 in /usr/local/lib/python3.7/dist-packages (from pyasn1-modules>=0.2.1->google-auth<2,>=1.6.3->tensorboard~=2.6->tensorflow>=2.1->attention) (0.4.8)\n",
            "Requirement already satisfied: idna<3,>=2.5 in /usr/local/lib/python3.7/dist-packages (from requests<3,>=2.21.0->tensorboard~=2.6->tensorflow>=2.1->attention) (2.10)\n",
            "Requirement already satisfied: certifi>=2017.4.17 in /usr/local/lib/python3.7/dist-packages (from requests<3,>=2.21.0->tensorboard~=2.6->tensorflow>=2.1->attention) (2021.5.30)\n",
            "Requirement already satisfied: chardet<4,>=3.0.2 in /usr/local/lib/python3.7/dist-packages (from requests<3,>=2.21.0->tensorboard~=2.6->tensorflow>=2.1->attention) (3.0.4)\n",
            "Requirement already satisfied: urllib3!=1.25.0,!=1.25.1,<1.26,>=1.21.1 in /usr/local/lib/python3.7/dist-packages (from requests<3,>=2.21.0->tensorboard~=2.6->tensorflow>=2.1->attention) (1.24.3)\n",
            "Requirement already satisfied: oauthlib>=3.0.0 in /usr/local/lib/python3.7/dist-packages (from requests-oauthlib>=0.7.0->google-auth-oauthlib<0.5,>=0.4.1->tensorboard~=2.6->tensorflow>=2.1->attention) (3.1.1)\n",
            "Requirement already satisfied: zipp>=0.5 in /usr/local/lib/python3.7/dist-packages (from importlib-metadata->markdown>=2.6.8->tensorboard~=2.6->tensorflow>=2.1->attention) (3.6.0)\n"
          ]
        }
      ]
    },
    {
      "cell_type": "code",
      "metadata": {
        "id": "qkh6Up3jID3P"
      },
      "source": [
        "import numpy\n",
        "import numpy as np\n",
        "import tensorflow as tf\n",
        "from tensorflow.keras import Sequential\n",
        "from tensorflow.keras.callbacks import Callback\n",
        "from tensorflow.keras.datasets import imdb\n",
        "from tensorflow.keras.layers import Dense, Dropout, Embedding, LSTM\n",
        "from tensorflow.keras.preprocessing import sequence\n",
        "\n",
        "from attention import Attention"
      ],
      "execution_count": 128,
      "outputs": []
    },
    {
      "cell_type": "code",
      "metadata": {
        "colab": {
          "base_uri": "https://localhost:8080/"
        },
        "id": "koy5CzqrIyGX",
        "outputId": "a788a524-3407-43bb-95c1-c9e309ba710c"
      },
      "source": [
        "import numpy as np\n",
        "\n",
        "from tensorflow.keras.preprocessing.text import Tokenizer\n",
        "from tensorflow.keras.preprocessing.sequence import pad_sequences\n",
        "\n",
        "\n",
        "embedding_dim = 300\n",
        "max_length = 300\n",
        "trunc_type='post'\n",
        "padding_type='post'\n",
        "oov_tok = \"<OOV>\"\n",
        "vocab_len=100000\n",
        "\n",
        "\n",
        "tokenizer = Tokenizer(num_words=vocab_len+1,oov_token=oov_tok)\n",
        "tokenizer.fit_on_texts(sentences)\n",
        "\n",
        "word_index = tokenizer.word_index\n",
        "vocab_size=len(word_index)\n",
        "print('Original Size of Vocabulary: ',vocab_size)\n",
        "\n",
        "word_index = {e:i for e,i in word_index.items() if i <= vocab_len+1} #Reducing the Size of Vocabulary\n",
        "print('New Size of Vocabulary: ',len(word_index))\n",
        "\n",
        "sequences = tokenizer.texts_to_sequences(sentences)\n",
        "padded = pad_sequences(sequences, maxlen=max_length, padding=padding_type, truncating=trunc_type)\n",
        "\n",
        "train_sequences = tokenizer.texts_to_sequences(train_sentences)\n",
        "train_padded = pad_sequences(train_sequences, maxlen=max_length, padding=padding_type, truncating=trunc_type)\n",
        "\n",
        "val_sequences = tokenizer.texts_to_sequences(val_sentences)\n",
        "val_padded = pad_sequences(val_sequences, maxlen=max_length, padding=padding_type, truncating=trunc_type)\n",
        "\n",
        "test_sequences = tokenizer.texts_to_sequences(test_sentences)\n",
        "test_padded = pad_sequences(test_sequences, maxlen=max_length, padding=padding_type, truncating=trunc_type)\n",
        "\n",
        "\n",
        "train_labels=np.expand_dims(train_labels, axis=1)\n",
        "val_labels=np.expand_dims(val_labels, axis=1)\n",
        "test_labels=np.expand_dims(test_labels, axis=1)"
      ],
      "execution_count": 129,
      "outputs": [
        {
          "output_type": "stream",
          "name": "stdout",
          "text": [
            "Original Size of Vocabulary:  85383\n",
            "New Size of Vocabulary:  85383\n"
          ]
        }
      ]
    },
    {
      "cell_type": "markdown",
      "metadata": {
        "id": "dJDIBZzMJLq-"
      },
      "source": [
        "# MODEL 1"
      ]
    },
    {
      "cell_type": "markdown",
      "metadata": {
        "id": "VXpxiDzE-f09"
      },
      "source": [
        "## ***Attention Based Model ***"
      ]
    },
    {
      "cell_type": "code",
      "metadata": {
        "id": "XXj_vNEGJQjm"
      },
      "source": [
        " add_attention=True\n",
        " model = Sequential([\n",
        "        Embedding(vocab_len+1, embedding_dim, input_length=max_length),\n",
        "        LSTM(100, return_sequences=True), \n",
        "        Attention(50),       \n",
        "        Dropout(0.2),\n",
        "        Dense(1, activation='sigmoid')\n",
        "    ]\n",
        "    )"
      ],
      "execution_count": 130,
      "outputs": []
    },
    {
      "cell_type": "code",
      "metadata": {
        "id": "jCw_54f0L9JY"
      },
      "source": [
        "model.compile(loss='binary_crossentropy', optimizer='adam', metrics=['accuracy'])"
      ],
      "execution_count": 131,
      "outputs": []
    },
    {
      "cell_type": "code",
      "metadata": {
        "colab": {
          "base_uri": "https://localhost:8080/"
        },
        "id": "M6OPJdLBL97S",
        "outputId": "f79578f3-b895-4ddf-ea23-0aa63008b7bd"
      },
      "source": [
        "reduce =tf. keras.callbacks.ReduceLROnPlateau(monitor='val_loss', factor=0.1, patience=3, mode='auto')\n",
        "history=model.fit(train_padded, train_labels, epochs=20, batch_size=128, validation_data=(val_padded,val_labels),callbacks=[reduce],verbose=1)"
      ],
      "execution_count": 132,
      "outputs": [
        {
          "output_type": "stream",
          "name": "stdout",
          "text": [
            "Epoch 1/20\n",
            "86/86 [==============================] - 5s 40ms/step - loss: 0.5545 - accuracy: 0.7296 - val_loss: 0.4187 - val_accuracy: 0.8222\n",
            "Epoch 2/20\n",
            "86/86 [==============================] - 3s 35ms/step - loss: 0.3337 - accuracy: 0.8577 - val_loss: 0.4056 - val_accuracy: 0.8397\n",
            "Epoch 3/20\n",
            "86/86 [==============================] - 3s 35ms/step - loss: 0.1814 - accuracy: 0.9345 - val_loss: 0.5585 - val_accuracy: 0.8214\n",
            "Epoch 4/20\n",
            "86/86 [==============================] - 3s 35ms/step - loss: 0.0848 - accuracy: 0.9739 - val_loss: 0.6462 - val_accuracy: 0.8105\n",
            "Epoch 5/20\n",
            "86/86 [==============================] - 3s 36ms/step - loss: 0.0579 - accuracy: 0.9816 - val_loss: 0.6606 - val_accuracy: 0.8054\n",
            "Epoch 6/20\n",
            "86/86 [==============================] - 3s 36ms/step - loss: 0.0325 - accuracy: 0.9881 - val_loss: 0.8118 - val_accuracy: 0.8069\n",
            "Epoch 7/20\n",
            "86/86 [==============================] - 3s 35ms/step - loss: 0.0296 - accuracy: 0.9881 - val_loss: 0.8605 - val_accuracy: 0.8054\n",
            "Epoch 8/20\n",
            "86/86 [==============================] - 3s 35ms/step - loss: 0.0283 - accuracy: 0.9881 - val_loss: 0.8440 - val_accuracy: 0.8061\n",
            "Epoch 9/20\n",
            "86/86 [==============================] - 3s 35ms/step - loss: 0.0256 - accuracy: 0.9891 - val_loss: 0.8617 - val_accuracy: 0.8069\n",
            "Epoch 10/20\n",
            "86/86 [==============================] - 3s 36ms/step - loss: 0.0253 - accuracy: 0.9891 - val_loss: 0.8772 - val_accuracy: 0.8083\n",
            "Epoch 11/20\n",
            "86/86 [==============================] - 3s 36ms/step - loss: 0.0252 - accuracy: 0.9891 - val_loss: 0.8914 - val_accuracy: 0.8076\n",
            "Epoch 12/20\n",
            "86/86 [==============================] - 3s 36ms/step - loss: 0.0249 - accuracy: 0.9890 - val_loss: 0.8928 - val_accuracy: 0.8076\n",
            "Epoch 13/20\n",
            "86/86 [==============================] - 3s 36ms/step - loss: 0.0250 - accuracy: 0.9891 - val_loss: 0.8939 - val_accuracy: 0.8076\n",
            "Epoch 14/20\n",
            "86/86 [==============================] - 3s 36ms/step - loss: 0.0251 - accuracy: 0.9892 - val_loss: 0.8954 - val_accuracy: 0.8076\n",
            "Epoch 15/20\n",
            "86/86 [==============================] - 3s 36ms/step - loss: 0.0249 - accuracy: 0.9888 - val_loss: 0.8955 - val_accuracy: 0.8069\n",
            "Epoch 16/20\n",
            "86/86 [==============================] - 3s 36ms/step - loss: 0.0250 - accuracy: 0.9892 - val_loss: 0.8957 - val_accuracy: 0.8069\n",
            "Epoch 17/20\n",
            "86/86 [==============================] - 3s 36ms/step - loss: 0.0251 - accuracy: 0.9888 - val_loss: 0.8958 - val_accuracy: 0.8069\n",
            "Epoch 18/20\n",
            "86/86 [==============================] - 3s 36ms/step - loss: 0.0249 - accuracy: 0.9886 - val_loss: 0.8958 - val_accuracy: 0.8069\n",
            "Epoch 19/20\n",
            "86/86 [==============================] - 3s 35ms/step - loss: 0.0249 - accuracy: 0.9891 - val_loss: 0.8958 - val_accuracy: 0.8069\n",
            "Epoch 20/20\n",
            "86/86 [==============================] - 3s 36ms/step - loss: 0.0249 - accuracy: 0.9892 - val_loss: 0.8959 - val_accuracy: 0.8069\n"
          ]
        }
      ]
    },
    {
      "cell_type": "code",
      "metadata": {
        "colab": {
          "base_uri": "https://localhost:8080/"
        },
        "id": "j1G6_oKKlaaJ",
        "outputId": "ccc8b51b-6f36-4c2c-d7e5-ffb530178710"
      },
      "source": [
        "#Determining the optimal threshold value to seggregate the classes\n",
        "pred = model.evaluate(test_padded,test_labels)\n",
        "pred\n"
      ],
      "execution_count": 133,
      "outputs": [
        {
          "output_type": "stream",
          "name": "stdout",
          "text": [
            "44/44 [==============================] - 0s 8ms/step - loss: 0.9440 - accuracy: 0.8033\n"
          ]
        },
        {
          "output_type": "execute_result",
          "data": {
            "text/plain": [
              "[0.9440286159515381, 0.8033261299133301]"
            ]
          },
          "metadata": {},
          "execution_count": 133
        }
      ]
    },
    {
      "cell_type": "markdown",
      "metadata": {
        "id": "NPY9mDTn-dOd"
      },
      "source": [
        "## Model 2: Switch Tranformer \n"
      ]
    },
    {
      "cell_type": "code",
      "metadata": {
        "id": "tg3K_p0WoeRc"
      },
      "source": [
        "import tensorflow as tf\n",
        "from tensorflow import keras\n",
        "from tensorflow.keras import layers"
      ],
      "execution_count": 134,
      "outputs": []
    },
    {
      "cell_type": "markdown",
      "metadata": {
        "id": "XurPoinvn9so"
      },
      "source": [
        "## Define hyperparameters"
      ]
    },
    {
      "cell_type": "code",
      "metadata": {
        "id": "eT7Sgkchn9sp",
        "colab": {
          "base_uri": "https://localhost:8080/"
        },
        "outputId": "5f4b1c63-2992-42e4-96cc-797ea0b27d10"
      },
      "source": [
        "vocab_size = 100000  # Only consider the top 20k words\n",
        "num_tokens_per_example = 300  # Only consider the first 200 words of each movie review\n",
        "embed_dim = 300  # Embedding size for each token.\n",
        "num_heads = 2  # Number of attention heads\n",
        "ff_dim = 32  # Hidden layer size in feedforward network.\n",
        "num_experts = 10  # Number of experts used in the Switch Transformer.\n",
        "batch_size = 1  # Batch size.\n",
        "learning_rate = 0.001  # Learning rate.\n",
        "dropout_rate = 0.25  # Dropout rate.\n",
        "num_epochs = 7  # Number of epochs.\n",
        "num_tokens_per_batch = (\n",
        "    batch_size * num_tokens_per_example\n",
        ")  # Total number of tokens per batch.\n",
        "print(f\"Number of tokens per batch: {num_tokens_per_batch}\")"
      ],
      "execution_count": 135,
      "outputs": [
        {
          "output_type": "stream",
          "name": "stdout",
          "text": [
            "Number of tokens per batch: 300\n"
          ]
        }
      ]
    },
    {
      "cell_type": "markdown",
      "metadata": {
        "id": "7EiShdgQn9sq"
      },
      "source": [
        "## Implement token & position embedding layer\n",
        "\n",
        "It consists of two seperate embedding layers, one for tokens, one for token index (positions)."
      ]
    },
    {
      "cell_type": "code",
      "metadata": {
        "id": "jetd42YKn9sq"
      },
      "source": [
        "\n",
        "class TokenAndPositionEmbedding(layers.Layer):\n",
        "    def __init__(self, maxlen, vocab_size, embed_dim):\n",
        "        super(TokenAndPositionEmbedding, self).__init__()\n",
        "        self.token_emb = layers.Embedding(input_dim=vocab_size, output_dim=embed_dim)\n",
        "        self.pos_emb = layers.Embedding(input_dim=maxlen, output_dim=embed_dim)\n",
        "\n",
        "    def call(self, x):\n",
        "        maxlen = tf.shape(x)[-1]\n",
        "        positions = tf.range(start=0, limit=maxlen, delta=1)\n",
        "        positions = self.pos_emb(positions)\n",
        "        x = self.token_emb(x)\n",
        "        return x + positions\n"
      ],
      "execution_count": 136,
      "outputs": []
    },
    {
      "cell_type": "markdown",
      "metadata": {
        "id": "eVTf7YiDn9sr"
      },
      "source": [
        "## Implement the feedforward network\n",
        "\n",
        "This is used as the Mixture of Experts in the Switch Transformer."
      ]
    },
    {
      "cell_type": "code",
      "metadata": {
        "id": "l7nLRriPn9sr"
      },
      "source": [
        "\n",
        "def create_feedforward_network(ff_dim, name=None):\n",
        "    return keras.Sequential(\n",
        "        [layers.Dense(ff_dim, activation=\"relu\"), layers.Dense(ff_dim)], name=name\n",
        "    )\n"
      ],
      "execution_count": 137,
      "outputs": []
    },
    {
      "cell_type": "markdown",
      "metadata": {
        "id": "sy6Q8Q_rn9ss"
      },
      "source": [
        "## Implement the load-balanced loss\n",
        "\n",
        "This is an auxiliary loss to encourage a balanced load across experts."
      ]
    },
    {
      "cell_type": "code",
      "metadata": {
        "id": "9ON_JLU4n9ss"
      },
      "source": [
        "\n",
        "def load_balanced_loss(router_probs, expert_mask):\n",
        "    # router_probs [tokens_per_batch, num_experts] is the probability assigned for\n",
        "    # each expert per token. expert_mask [tokens_per_batch, num_experts] contains\n",
        "    # the expert with the highest router probability in one−hot format.\n",
        "\n",
        "    num_experts = tf.shape(expert_mask)[-1]\n",
        "    # Get the fraction of tokens routed to each expert.\n",
        "    # density is a vector of length num experts that sums to 1.\n",
        "    density = tf.reduce_mean(expert_mask, axis=0)\n",
        "    # Get fraction of probability mass assigned to each expert from the router\n",
        "    # across all tokens. density_proxy is a vector of length num experts that sums to 1.\n",
        "    density_proxy = tf.reduce_mean(router_probs, axis=0)\n",
        "    # Want both vectors to have uniform allocation (1/num experts) across all\n",
        "    # num_expert elements. The two vectors will be pushed towards uniform allocation\n",
        "    # when the dot product is minimized.\n",
        "    loss = tf.reduce_mean(density_proxy * density) * tf.cast(\n",
        "        (num_experts ** 2), tf.dtypes.float32\n",
        "    )\n",
        "    return loss\n"
      ],
      "execution_count": 138,
      "outputs": []
    },
    {
      "cell_type": "markdown",
      "metadata": {
        "id": "DNKHISB-n9st"
      },
      "source": [
        "### Implement the router as a layer"
      ]
    },
    {
      "cell_type": "code",
      "metadata": {
        "id": "g7PFIJs_n9su"
      },
      "source": [
        "\n",
        "class Router(layers.Layer):\n",
        "    def __init__(self, num_experts, expert_capacity):\n",
        "        self.num_experts = num_experts\n",
        "        self.route = layers.Dense(units=num_experts)\n",
        "        self.expert_capacity = expert_capacity\n",
        "        super(Router, self).__init__()\n",
        "\n",
        "    def call(self, inputs, training=False):\n",
        "        # inputs shape: [tokens_per_batch, embed_dim]\n",
        "        # router_logits shape: [tokens_per_batch, num_experts]\n",
        "        router_logits = self.route(inputs)\n",
        "\n",
        "        if training:\n",
        "            # Add noise for exploration across experts.\n",
        "            router_logits += tf.random.uniform(\n",
        "                shape=router_logits.shape, minval=0.9, maxval=1.1\n",
        "            )\n",
        "        # Probabilities for each token of what expert it should be sent to.\n",
        "        router_probs = keras.activations.softmax(router_logits, axis=-1)\n",
        "        # Get the top−1 expert for each token. expert_gate is the top−1 probability\n",
        "        # from the router for each token. expert_index is what expert each token\n",
        "        # is going to be routed to.\n",
        "        expert_gate, expert_index = tf.math.top_k(router_probs, k=1)\n",
        "        # expert_mask shape: [tokens_per_batch, num_experts]\n",
        "        expert_mask = tf.one_hot(expert_index, depth=self.num_experts)\n",
        "        # Compute load balancing loss.\n",
        "        aux_loss = load_balanced_loss(router_probs, expert_mask)\n",
        "        self.add_loss(aux_loss)\n",
        "        # Experts have a fixed capacity, ensure we do not exceed it. Construct\n",
        "        # the batch indices, to each expert, with position in expert make sure that\n",
        "        # not more that expert capacity examples can be routed to each expert.\n",
        "        position_in_expert = tf.cast(\n",
        "            tf.math.cumsum(expert_mask, axis=0) * expert_mask, tf.dtypes.int32\n",
        "        )\n",
        "        # Keep only tokens that fit within expert capacity.\n",
        "        expert_mask *= tf.cast(\n",
        "            tf.math.less(\n",
        "                tf.cast(position_in_expert, tf.dtypes.int32), self.expert_capacity\n",
        "            ),\n",
        "            tf.dtypes.float32,\n",
        "        )\n",
        "        expert_mask_flat = tf.reduce_sum(expert_mask, axis=-1)\n",
        "        # Mask out the experts that have overflowed the expert capacity.\n",
        "        expert_gate *= expert_mask_flat\n",
        "        # Combine expert outputs and scaling with router probability.\n",
        "        # combine_tensor shape: [tokens_per_batch, num_experts, expert_capacity]\n",
        "        combined_tensor = tf.expand_dims(\n",
        "            expert_gate\n",
        "            * expert_mask_flat\n",
        "            * tf.squeeze(tf.one_hot(expert_index, depth=self.num_experts), 1),\n",
        "            -1,\n",
        "        ) * tf.squeeze(tf.one_hot(position_in_expert, depth=self.expert_capacity), 1)\n",
        "        # Create binary dispatch_tensor [tokens_per_batch, num_experts, expert_capacity]\n",
        "        # that is 1 if the token gets routed to the corresponding expert.\n",
        "        dispatch_tensor = tf.cast(combined_tensor, tf.dtypes.float32)\n",
        "\n",
        "        return dispatch_tensor, combined_tensor\n"
      ],
      "execution_count": 139,
      "outputs": []
    },
    {
      "cell_type": "markdown",
      "metadata": {
        "id": "dbIT_Pz7n9su"
      },
      "source": [
        "### Implement a Switch layer"
      ]
    },
    {
      "cell_type": "code",
      "metadata": {
        "id": "StOsDS1-n9sv"
      },
      "source": [
        "\n",
        "class Switch(layers.Layer):\n",
        "    def __init__(self, num_experts, embed_dim, num_tokens_per_batch, capacity_factor=1):\n",
        "        self.num_experts = num_experts\n",
        "        self.embed_dim = embed_dim\n",
        "        self.experts = [\n",
        "            create_feedforward_network(embed_dim) for _ in range(num_experts)\n",
        "        ]\n",
        "\n",
        "        self.expert_capacity = num_tokens_per_batch // self.num_experts\n",
        "        self.router = Router(self.num_experts, self.expert_capacity)\n",
        "        super(Switch, self).__init__()\n",
        "\n",
        "    def call(self, inputs):\n",
        "        batch_size = tf.shape(inputs)[0]\n",
        "        num_tokens_per_example = tf.shape(inputs)[1]\n",
        "\n",
        "        # inputs shape: [num_tokens_per_batch, embed_dim]\n",
        "        inputs = tf.reshape(inputs, [num_tokens_per_batch, self.embed_dim])\n",
        "        # dispatch_tensor shape: [expert_capacity, num_experts, tokens_per_batch]\n",
        "        # combine_tensor shape: [tokens_per_batch, num_experts, expert_capacity]\n",
        "        dispatch_tensor, combine_tensor = self.router(inputs)\n",
        "        # expert_inputs shape: [num_experts, expert_capacity, embed_dim]\n",
        "        expert_inputs = tf.einsum(\"ab,acd->cdb\", inputs, dispatch_tensor)\n",
        "        expert_inputs = tf.reshape(\n",
        "            expert_inputs, [self.num_experts, self.expert_capacity, self.embed_dim]\n",
        "        )\n",
        "        # Dispatch to experts\n",
        "        expert_input_list = tf.unstack(expert_inputs, axis=0)\n",
        "        expert_output_list = [\n",
        "            self.experts[idx](expert_input)\n",
        "            for idx, expert_input in enumerate(expert_input_list)\n",
        "        ]\n",
        "        # expert_outputs shape: [expert_capacity, num_experts, embed_dim]\n",
        "        expert_outputs = tf.stack(expert_output_list, axis=1)\n",
        "        # expert_outputs_combined shape: [tokens_per_batch, embed_dim]\n",
        "        expert_outputs_combined = tf.einsum(\n",
        "            \"abc,xba->xc\", expert_outputs, combine_tensor\n",
        "        )\n",
        "        # output shape: [batch_size, num_tokens_per_example, embed_dim]\n",
        "        outputs = tf.reshape(\n",
        "            expert_outputs_combined,\n",
        "            [batch_size, num_tokens_per_example, self.embed_dim],\n",
        "        )\n",
        "        return outputs\n"
      ],
      "execution_count": 140,
      "outputs": []
    },
    {
      "cell_type": "markdown",
      "metadata": {
        "id": "BHvQ6aMwn9sv"
      },
      "source": [
        "## Implement a Transformer block layer"
      ]
    },
    {
      "cell_type": "code",
      "metadata": {
        "id": "7fhfGYYtn9sv"
      },
      "source": [
        "\n",
        "class TransformerBlock(layers.Layer):\n",
        "    def __init__(self, embed_dim, num_heads, ffn, dropout_rate=0.1):\n",
        "        super(TransformerBlock, self).__init__()\n",
        "        self.att = layers.MultiHeadAttention(num_heads=num_heads, key_dim=embed_dim)\n",
        "        # The ffn can be either a standard feedforward network or a switch\n",
        "        # layer with a Mixture of Experts.\n",
        "        self.ffn = ffn\n",
        "        self.layernorm1 = layers.LayerNormalization(epsilon=1e-6)\n",
        "        self.layernorm2 = layers.LayerNormalization(epsilon=1e-6)\n",
        "        self.dropout1 = layers.Dropout(dropout_rate)\n",
        "        self.dropout2 = layers.Dropout(dropout_rate)\n",
        "\n",
        "    def call(self, inputs, training):\n",
        "        attn_output = self.att(inputs, inputs)\n",
        "        attn_output = self.dropout1(attn_output, training=training)\n",
        "        out1 = self.layernorm1(inputs + attn_output)\n",
        "        ffn_output = self.ffn(out1)\n",
        "        ffn_output = self.dropout2(ffn_output, training=training)\n",
        "        return self.layernorm2(out1 + ffn_output)\n"
      ],
      "execution_count": 141,
      "outputs": []
    },
    {
      "cell_type": "markdown",
      "metadata": {
        "id": "v-uz687sn9sw"
      },
      "source": [
        "## Implement the classifier\n",
        "\n",
        "The `TransformerBlock` layer outputs one vector for each time step of our input sequence.\n",
        "Here, we take the mean across all time steps and use a feedforward network on top\n",
        "of it to classify text."
      ]
    },
    {
      "cell_type": "code",
      "metadata": {
        "id": "_k-BIHd-n9sw"
      },
      "source": [
        "\n",
        "def create_classifier():\n",
        "    switch = Switch(num_experts, embed_dim, num_tokens_per_batch)\n",
        "    transformer_block = TransformerBlock(ff_dim, num_heads, switch)\n",
        "\n",
        "    inputs = layers.Input(shape=(num_tokens_per_example,))\n",
        "    embedding_layer = TokenAndPositionEmbedding(\n",
        "        num_tokens_per_example, vocab_size, embed_dim\n",
        "    )\n",
        "    x = embedding_layer(inputs)\n",
        "    x = transformer_block(x)\n",
        "    x = layers.GlobalAveragePooling1D()(x)\n",
        "    x = layers.Dropout(dropout_rate)(x)\n",
        "    x = layers.Dense(ff_dim, activation=\"relu\")(x)\n",
        "    x = layers.Dropout(dropout_rate)(x)\n",
        "    outputs = layers.Dense(2, activation=\"softmax\")(x)\n",
        "\n",
        "    classifier = keras.Model(inputs=inputs, outputs=outputs)\n",
        "    return classifier\n"
      ],
      "execution_count": 142,
      "outputs": []
    },
    {
      "cell_type": "code",
      "metadata": {
        "id": "rsHHj1BHcPDr",
        "outputId": "53385911-15ac-4f33-d7a1-59b341ce9acf",
        "colab": {
          "base_uri": "https://localhost:8080/"
        }
      },
      "source": [
        "def run_experiment(classifier):\n",
        "    classifier.compile(\n",
        "        optimizer=keras.optimizers.Adam(learning_rate),\n",
        "        loss=\"sparse_categorical_crossentropy\",\n",
        "        metrics=[\"accuracy\"],\n",
        "    )\n",
        "    history = classifier.fit(\n",
        "        train_padded,\n",
        "        train_labels,\n",
        "        batch_size=batch_size,\n",
        "        epochs=num_epochs,\n",
        "        validation_data=(val_padded, val_labels),\n",
        "    )\n",
        "    return history\n",
        "\n",
        "\n",
        "classifier = create_classifier()\n",
        "run_experiment(classifier)"
      ],
      "execution_count": 143,
      "outputs": [
        {
          "output_type": "stream",
          "name": "stdout",
          "text": [
            "Epoch 1/3\n",
            "10965/10965 [==============================] - 192s 13ms/step - loss: 1.5598 - accuracy: 0.7563 - val_loss: 1.4525 - val_accuracy: 0.8083\n",
            "Epoch 2/3\n",
            "10965/10965 [==============================] - 145s 13ms/step - loss: 1.4167 - accuracy: 0.8239 - val_loss: 1.4378 - val_accuracy: 0.8141\n",
            "Epoch 3/3\n",
            "10965/10965 [==============================] - 145s 13ms/step - loss: 1.3496 - accuracy: 0.8547 - val_loss: 1.4551 - val_accuracy: 0.8156\n"
          ]
        },
        {
          "output_type": "execute_result",
          "data": {
            "text/plain": [
              "<keras.callbacks.History at 0x7f4ae23a1890>"
            ]
          },
          "metadata": {},
          "execution_count": 143
        }
      ]
    },
    {
      "cell_type": "code",
      "metadata": {
        "colab": {
          "base_uri": "https://localhost:8080/"
        },
        "id": "dTXPyoSJSeI6",
        "outputId": "e1e8cd5c-920c-4b7d-fdea-c24f52097bf9"
      },
      "source": [
        "ls"
      ],
      "execution_count": 144,
      "outputs": [
        {
          "output_type": "stream",
          "name": "stdout",
          "text": [
            "\u001b[0m\u001b[01;34mdata\u001b[0m/                                  \u001b[01;34mmodel\u001b[0m/                \u001b[01;34mtext_gcn\u001b[0m/\n",
            "\u001b[01;34mGraph-Based-Text-Classification-main\u001b[0m/  \u001b[01;34mtext_classification\u001b[0m/\n"
          ]
        }
      ]
    },
    {
      "cell_type": "code",
      "metadata": {
        "colab": {
          "base_uri": "https://localhost:8080/"
        },
        "id": "0yO0WgYMSXXM",
        "outputId": "5ed3c9b8-b013-4367-a4a7-6692f73630bc"
      },
      "source": [
        "!git clone https://github.com/brightmart/text_classification.git"
      ],
      "execution_count": 1,
      "outputs": [
        {
          "output_type": "stream",
          "name": "stdout",
          "text": [
            "Cloning into 'text_classification'...\n",
            "remote: Enumerating objects: 1218, done.\u001b[K\n",
            "remote: Counting objects: 100% (18/18), done.\u001b[K\n",
            "remote: Compressing objects: 100% (18/18), done.\u001b[K\n",
            "remote: Total 1218 (delta 8), reused 1 (delta 0), pack-reused 1200\u001b[K\n",
            "Receiving objects: 100% (1218/1218), 14.40 MiB | 31.11 MiB/s, done.\n",
            "Resolving deltas: 100% (758/758), done.\n"
          ]
        }
      ]
    },
    {
      "cell_type": "code",
      "metadata": {
        "id": "my6G1XgY1Zxz"
      },
      "source": [
        ""
      ],
      "execution_count": null,
      "outputs": []
    }
  ]
}